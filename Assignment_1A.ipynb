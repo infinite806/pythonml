{
  "cells": [
    {
      "cell_type": "markdown",
      "metadata": {
        "id": "FgXaHXB2ACsz"
      },
      "source": [
        "# NumPy Practice\n",
        "\n",
        "This notebook offers a set of exercises for different tasks with NumPy.\n",
        "\n",
        "It should be noted there may be more than one different way to answer a question or complete an exercise.\n",
        "\n",
        "Exercises are based off (and directly taken from) the quick introduction to NumPy notebook.\n",
        "\n",
        "Different tasks will be detailed by comments or text.\n",
        "\n",
        "For further reference and resources, it's advised to check out the [NumPy documentation](https://numpy.org/devdocs/user/index.html).\n",
        "\n",
        "And if you get stuck, try searching for a question in the following format: \"how to do XYZ with numpy\", where XYZ is the function you want to leverage from NumPy."
      ]
    },
    {
      "cell_type": "code",
      "execution_count": 1,
      "metadata": {
        "id": "XsOXKIEaACs5"
      },
      "outputs": [],
      "source": [
        "# Import NumPy as its abbreviation 'np'\n",
        "import numpy as np\n",
        "import random"
      ]
    },
    {
      "cell_type": "code",
      "execution_count": 2,
      "metadata": {
        "id": "GMk1F0dpACs7"
      },
      "outputs": [],
      "source": [
        "# Create a 1-dimensional NumPy array using np.array()\n",
        "a1d = np.array([1,2,3,4,5])\n",
        "\n",
        "# Create a 2-dimensional NumPy array using np.array()\n",
        "a2d = np.array([[1,2,3,4], [5,6,7,8]])\n",
        "\n",
        "# Create a 3-dimensional Numpy array using np.array()\n",
        "a3d = np.array([[[1, 2, 3], [4,5,6]], [[7,8,9], [10,11,12]]])"
      ]
    },
    {
      "cell_type": "markdown",
      "metadata": {
        "id": "7p8hJRNbACs8"
      },
      "source": [
        "Now we've you've created 3 different arrays, let's find details about them.\n",
        "\n",
        "Find the shape, number of dimensions, data type, size and type of each array."
      ]
    },
    {
      "cell_type": "code",
      "execution_count": 3,
      "metadata": {
        "id": "GBn9X0nBACs9",
        "colab": {
          "base_uri": "https://localhost:8080/"
        },
        "outputId": "aecc1937-771d-432d-df5f-dd6c6afc815f"
      },
      "outputs": [
        {
          "output_type": "stream",
          "name": "stdout",
          "text": [
            "(5,)\n",
            "1\n",
            "int64\n",
            "5\n",
            "<class 'numpy.ndarray'>\n"
          ]
        }
      ],
      "source": [
        "# Attributes of 1-dimensional array (shape,\n",
        "# number of dimensions, data type, size and type)\n",
        "print(a1d.shape)\n",
        "print(a1d.ndim)\n",
        "print(a1d.dtype)\n",
        "print(a1d.size)\n",
        "print(type(a1d))"
      ]
    },
    {
      "cell_type": "code",
      "execution_count": 4,
      "metadata": {
        "id": "90KOlEP8ACs9",
        "colab": {
          "base_uri": "https://localhost:8080/"
        },
        "outputId": "1fba586a-368c-4688-fad9-2330be364f9d"
      },
      "outputs": [
        {
          "output_type": "stream",
          "name": "stdout",
          "text": [
            "(2, 4)\n",
            "2\n",
            "int64\n",
            "8\n",
            "<class 'numpy.ndarray'>\n"
          ]
        }
      ],
      "source": [
        "# Attributes of 2-dimensional array\n",
        "print(a2d.shape)\n",
        "print(a2d.ndim)\n",
        "print(a2d.dtype)\n",
        "print(a2d.size)\n",
        "print(type(a2d))"
      ]
    },
    {
      "cell_type": "code",
      "execution_count": 5,
      "metadata": {
        "id": "J5r4gLtHACs-",
        "colab": {
          "base_uri": "https://localhost:8080/"
        },
        "outputId": "70761fe3-4241-4a4d-8936-955acc696c37"
      },
      "outputs": [
        {
          "output_type": "stream",
          "name": "stdout",
          "text": [
            "(2, 2, 3)\n",
            "3\n",
            "int64\n",
            "12\n",
            "<class 'numpy.ndarray'>\n"
          ]
        }
      ],
      "source": [
        "# Attributes of 3-dimensional array\n",
        "print(a3d.shape)\n",
        "print(a3d.ndim)\n",
        "print(a3d.dtype)\n",
        "print(a3d.size)\n",
        "print(type(a3d))"
      ]
    },
    {
      "cell_type": "code",
      "execution_count": 6,
      "metadata": {
        "id": "yllB33ZJACs-",
        "colab": {
          "base_uri": "https://localhost:8080/"
        },
        "outputId": "15233493-4538-47c7-be9b-838cfa793df0"
      },
      "outputs": [
        {
          "output_type": "stream",
          "name": "stdout",
          "text": [
            "   A\n",
            "a  1\n",
            "b  2\n",
            "c  3\n",
            "d  4\n",
            "e  5\n",
            "   A  B  C  D\n",
            "a  1  2  3  4\n",
            "b  5  6  7  8\n"
          ]
        }
      ],
      "source": [
        "# Import pandas and create a DataFrame out of one\n",
        "# of the arrays you've created\n",
        "import pandas as pd\n",
        "df = pd.DataFrame(a1d, index = list(\"abcde\"), columns = list(\"A\"))\n",
        "df2 = pd.DataFrame(a2d, index = list(\"ab\"), columns = list(\"ABCD\"))\n",
        "\n",
        "print(df)\n",
        "print(df2)\n"
      ]
    },
    {
      "cell_type": "code",
      "execution_count": 7,
      "metadata": {
        "id": "7nA_mF0KACs_",
        "colab": {
          "base_uri": "https://localhost:8080/"
        },
        "outputId": "5c1e4b22-281e-401c-ef36-31c5c56a9a16"
      },
      "outputs": [
        {
          "output_type": "stream",
          "name": "stdout",
          "text": [
            "[[1. 1.]\n",
            " [1. 1.]\n",
            " [1. 1.]\n",
            " [1. 1.]\n",
            " [1. 1.]\n",
            " [1. 1.]\n",
            " [1. 1.]\n",
            " [1. 1.]\n",
            " [1. 1.]\n",
            " [1. 1.]]\n"
          ]
        }
      ],
      "source": [
        "# Create an array of shape (10, 2) with only ones\n",
        "arr1s = np.ones((10,2))\n",
        "print(arr1s)\n"
      ]
    },
    {
      "cell_type": "code",
      "execution_count": 8,
      "metadata": {
        "id": "PXmSuiXIACtA",
        "colab": {
          "base_uri": "https://localhost:8080/"
        },
        "outputId": "0f6274f7-c7ac-477b-ceab-0f940a6eac0c"
      },
      "outputs": [
        {
          "output_type": "stream",
          "name": "stdout",
          "text": [
            "[[[0. 0. 0.]\n",
            "  [0. 0. 0.]]\n",
            "\n",
            " [[0. 0. 0.]\n",
            "  [0. 0. 0.]]\n",
            "\n",
            " [[0. 0. 0.]\n",
            "  [0. 0. 0.]]\n",
            "\n",
            " [[0. 0. 0.]\n",
            "  [0. 0. 0.]]\n",
            "\n",
            " [[0. 0. 0.]\n",
            "  [0. 0. 0.]]\n",
            "\n",
            " [[0. 0. 0.]\n",
            "  [0. 0. 0.]]\n",
            "\n",
            " [[0. 0. 0.]\n",
            "  [0. 0. 0.]]]\n"
          ]
        }
      ],
      "source": [
        "# Create an array of shape (7, 2, 3) of only zeros\n",
        "arr0 = np.zeros((7, 2, 3))\n",
        "print(arr0)\n"
      ]
    },
    {
      "cell_type": "code",
      "execution_count": 9,
      "metadata": {
        "id": "1USNlEqDACtA",
        "colab": {
          "base_uri": "https://localhost:8080/"
        },
        "outputId": "acfcefcc-6327-4991-a7d9-080b18003cf7"
      },
      "outputs": [
        {
          "output_type": "stream",
          "name": "stdout",
          "text": [
            "[ 0  3  6  9 12 15 18 21 24 27 30 33 36 39 42 45 48 51 54 57 60 63 66 69\n",
            " 72 75 78 81 84 87 90 93 96 99]\n"
          ]
        }
      ],
      "source": [
        "# Create an array within a range of 0 and 100 with step 3\n",
        "arr_range = np.arange(0, 100, 3)\n",
        "print(arr_range)\n"
      ]
    },
    {
      "cell_type": "code",
      "execution_count": 10,
      "metadata": {
        "id": "Gy_sxEtmACtA",
        "colab": {
          "base_uri": "https://localhost:8080/"
        },
        "outputId": "34815149-999d-479b-c8c5-fd753963e619"
      },
      "outputs": [
        {
          "output_type": "stream",
          "name": "stdout",
          "text": [
            "[[8 4]\n",
            " [6 1]\n",
            " [1 8]\n",
            " [2 7]\n",
            " [7 9]\n",
            " [9 7]\n",
            " [3 9]]\n"
          ]
        }
      ],
      "source": [
        "# Create a random array with numbers between 0 and 10 of size (7, 2)\n",
        "arr_r1 = np.random.randint(10, size = (7, 2))\n",
        "print(arr_r1)"
      ]
    },
    {
      "cell_type": "code",
      "execution_count": 14,
      "metadata": {
        "id": "HgFVWiS4ACtB",
        "colab": {
          "base_uri": "https://localhost:8080/"
        },
        "outputId": "1765c6b8-9868-4b88-ab14-a9a9f9b72b7a"
      },
      "outputs": [
        {
          "output_type": "stream",
          "name": "stdout",
          "text": [
            "[[0.83551414 0.75546382 0.68120248 0.9276463  0.33854951]\n",
            " [0.94498753 0.84325457 0.87582293 0.80555099 0.60029531]\n",
            " [0.50394418 0.03984106 0.84763912 0.663664   0.81097453]]\n"
          ]
        }
      ],
      "source": [
        "# Create a random array of floats between 0 & 1 of shape (3, 5)\n",
        "from numpy import random\n",
        "arr_r2 = random.rand(3,5)\n",
        "print(arr_r2)\n",
        "\n"
      ]
    },
    {
      "cell_type": "code",
      "execution_count": 15,
      "metadata": {
        "id": "mwdh0jtcACtB",
        "colab": {
          "base_uri": "https://localhost:8080/"
        },
        "outputId": "62c2bf03-0319-40b8-b633-2d376feaf4eb"
      },
      "outputs": [
        {
          "output_type": "stream",
          "name": "stdout",
          "text": [
            "[[6 3 7 4 6 9]\n",
            " [2 6 7 4 3 7]\n",
            " [7 2 5 4 1 7]\n",
            " [5 1 4 0 9 5]]\n"
          ]
        }
      ],
      "source": [
        "# Set the random seed to 42\n",
        "random.seed(42)\n",
        "\n",
        "# Create a random array of numbers between 0 & 10 of size (4, 6)\n",
        "arr3 = np.random.randint(10, size = (4, 6))\n",
        "print(arr3)\n"
      ]
    },
    {
      "cell_type": "markdown",
      "metadata": {
        "id": "yqcDjgWvACtB"
      },
      "source": [
        "Run the cell above again, what happens?\n",
        "\n",
        "Are the numbers in the array different or the same? Why do think this is?"
      ]
    },
    {
      "cell_type": "code",
      "execution_count": 16,
      "metadata": {
        "id": "Id3zn6IIACtC",
        "colab": {
          "base_uri": "https://localhost:8080/"
        },
        "outputId": "e6953561-4f4a-4208-c7b8-4361a371e57f"
      },
      "outputs": [
        {
          "output_type": "stream",
          "name": "stdout",
          "text": [
            "[[9 1 3 7 4 9 3]\n",
            " [5 3 7 5 9 7 2]\n",
            " [4 9 2 9 5 2 4]]\n"
          ]
        }
      ],
      "source": [
        "# Create an array of random numbers between 1 & 10 of size (3, 7)\n",
        "# and save it to a variable\n",
        "arr4 = np.random.randint(1, 10, size = (3, 7))\n",
        "print(arr4)\n",
        "\n",
        "\n",
        "# Find the unique numbers in the array you just created\n"
      ]
    },
    {
      "cell_type": "code",
      "execution_count": 18,
      "metadata": {
        "id": "Jr0MGF5WACtC",
        "colab": {
          "base_uri": "https://localhost:8080/"
        },
        "outputId": "5fd0ce59-210a-4818-c4d6-3e71f1fd56ef"
      },
      "outputs": [
        {
          "output_type": "stream",
          "name": "stdout",
          "text": [
            "[9 1 3 7 4 9 3]\n"
          ]
        }
      ],
      "source": [
        "# Find the 0'th index of the latest array you created\n",
        "print(arr4[0])\n"
      ]
    },
    {
      "cell_type": "code",
      "execution_count": 19,
      "metadata": {
        "id": "J3iS3fiyACtC",
        "colab": {
          "base_uri": "https://localhost:8080/"
        },
        "outputId": "974a73f8-6285-448c-fe37-4d26e82cfa6b"
      },
      "outputs": [
        {
          "output_type": "stream",
          "name": "stdout",
          "text": [
            "[9 1 3 7 4 9 3]\n",
            "[5 3 7 5 9 7 2]\n"
          ]
        }
      ],
      "source": [
        "# Get the first 2 rows of latest array you created\n",
        "print(arr4[0])\n",
        "print(arr4[1])"
      ]
    },
    {
      "cell_type": "code",
      "execution_count": 20,
      "metadata": {
        "id": "zUKkExTrACtC",
        "colab": {
          "base_uri": "https://localhost:8080/"
        },
        "outputId": "4918545a-64e7-4ea4-c759-01004f30d93b"
      },
      "outputs": [
        {
          "output_type": "stream",
          "name": "stdout",
          "text": [
            "9 1\n",
            "5 3\n"
          ]
        }
      ],
      "source": [
        "# Get the first 2 values of the first 2 rows of the latest array\n",
        "print(arr4[0, 0], arr4[0, 1])\n",
        "print(arr4[1, 0], arr4[1, 1])"
      ]
    },
    {
      "cell_type": "code",
      "execution_count": 21,
      "metadata": {
        "id": "tedh9e9nACtD",
        "colab": {
          "base_uri": "https://localhost:8080/"
        },
        "outputId": "48676f63-e07a-457b-c4df-6d475b81538b"
      },
      "outputs": [
        {
          "output_type": "stream",
          "name": "stdout",
          "text": [
            "[[6 7 2 0 3]\n",
            " [1 7 3 1 5]\n",
            " [5 9 3 5 1]]\n",
            "[[1 1 1 1 1]\n",
            " [1 1 1 1 1]\n",
            " [1 1 1 1 1]]\n"
          ]
        }
      ],
      "source": [
        "# Create a random array of numbers between 0 & 10 and an array of ones\n",
        "# both of size (3, 5), save them both to variables\n",
        "arr5 = np.random.randint(10, size = (3, 5))\n",
        "arr6 = np.ones((3, 5), dtype = 'i')\n",
        "print(arr5)\n",
        "print(arr6)\n",
        "\n"
      ]
    },
    {
      "cell_type": "code",
      "execution_count": 22,
      "metadata": {
        "id": "Bui1Tmo3ACtD",
        "colab": {
          "base_uri": "https://localhost:8080/"
        },
        "outputId": "5ed7fc10-3ff0-4b4b-fbfa-6c6de5dd8202"
      },
      "outputs": [
        {
          "output_type": "stream",
          "name": "stdout",
          "text": [
            "[[6 7 2 0 3]\n",
            " [1 7 3 1 5]\n",
            " [5 9 3 5 1]\n",
            " [1 1 1 1 1]\n",
            " [1 1 1 1 1]\n",
            " [1 1 1 1 1]]\n"
          ]
        }
      ],
      "source": [
        "# Add the two arrays together\n",
        "added = np.concatenate((arr5, arr6))\n",
        "print(added)"
      ]
    },
    {
      "cell_type": "code",
      "execution_count": 23,
      "metadata": {
        "id": "CtzeqRwEACtD",
        "colab": {
          "base_uri": "https://localhost:8080/"
        },
        "outputId": "b3c3c8fc-c92d-4e5f-ed44-584bfff82e76"
      },
      "outputs": [
        {
          "output_type": "stream",
          "name": "stdout",
          "text": [
            "[[1 1 1]\n",
            " [1 1 1]\n",
            " [1 1 1]\n",
            " [1 1 1]\n",
            " [1 1 1]]\n"
          ]
        }
      ],
      "source": [
        "# Create another array of ones of shape (5, 3)\n",
        "arr7 = np.ones((5, 3), dtype = 'i')\n",
        "print(arr7)"
      ]
    },
    {
      "cell_type": "code",
      "execution_count": null,
      "metadata": {
        "id": "uzl0f5fUACtD"
      },
      "outputs": [],
      "source": [
        "# Try add the array of ones and the other most recent array together\n",
        "# added2 = np.concatenate((arr7, arr5))\n"
      ]
    },
    {
      "cell_type": "markdown",
      "metadata": {
        "id": "9ZogUP2XACtE"
      },
      "source": [
        "When you try the last cell, it produces an error. Why do think this is?\n",
        "\n",
        "How would you fix it?"
      ]
    },
    {
      "cell_type": "code",
      "execution_count": 24,
      "metadata": {
        "id": "7XCnsBzPACtE",
        "colab": {
          "base_uri": "https://localhost:8080/"
        },
        "outputId": "0dabeb3e-2089-450b-9afc-f34c447a7b0e"
      },
      "outputs": [
        {
          "output_type": "stream",
          "name": "stdout",
          "text": [
            "[[1 1 1 1 1]\n",
            " [1 1 1 1 1]\n",
            " [1 1 1 1 1]]\n"
          ]
        }
      ],
      "source": [
        "# Create another array of ones of shape (3, 5)\n",
        "arr8 = np.ones((3, 5), dtype='i')\n",
        "print(arr8)\n"
      ]
    },
    {
      "cell_type": "code",
      "execution_count": 26,
      "metadata": {
        "id": "WCdBN0QQACtE",
        "colab": {
          "base_uri": "https://localhost:8080/"
        },
        "outputId": "8a2c07ab-dca4-4361-9f1a-4623f63492d4"
      },
      "outputs": [
        {
          "output_type": "stream",
          "name": "stdout",
          "text": [
            "[[ 5  6  1 -1  2]\n",
            " [ 0  6  2  0  4]\n",
            " [ 4  8  2  4  0]]\n"
          ]
        }
      ],
      "source": [
        "# Subtract the new array of ones from the other most recent array\n",
        "sub = arr5 - arr8\n",
        "print(sub)"
      ]
    },
    {
      "cell_type": "code",
      "execution_count": 27,
      "metadata": {
        "id": "IuYgO27AACtE",
        "colab": {
          "base_uri": "https://localhost:8080/"
        },
        "outputId": "9e01366f-33bb-4c62-be17-e9e7f3cf9746"
      },
      "outputs": [
        {
          "output_type": "stream",
          "name": "stdout",
          "text": [
            "[[ 5  6  1 -1  2]\n",
            " [ 0  6  2  0  4]\n",
            " [ 4  8  2  4  0]]\n"
          ]
        }
      ],
      "source": [
        "# Multiply the ones array with the latest array\n",
        "mul = arr8 * sub\n",
        "print(mul)"
      ]
    },
    {
      "cell_type": "code",
      "execution_count": 28,
      "metadata": {
        "id": "Cu05xcCOACtF",
        "colab": {
          "base_uri": "https://localhost:8080/"
        },
        "outputId": "f15efbbf-1ddb-4b67-8692-94ce94068355"
      },
      "outputs": [
        {
          "output_type": "stream",
          "name": "stdout",
          "text": [
            "[[25 36  1  1  4]\n",
            " [ 0 36  4  0 16]\n",
            " [16 64  4 16  0]]\n"
          ]
        }
      ],
      "source": [
        "# Take the latest array to the power of 2 using '**'\n",
        "pwr2 = mul ** 2\n",
        "print(pwr2)\n"
      ]
    },
    {
      "cell_type": "code",
      "execution_count": 29,
      "metadata": {
        "id": "yiTwmy25ACtF",
        "colab": {
          "base_uri": "https://localhost:8080/"
        },
        "outputId": "190e3544-2ec1-481e-ff9c-32e6a8afccd0"
      },
      "outputs": [
        {
          "output_type": "stream",
          "name": "stdout",
          "text": [
            "[[25 36  1  1  4]\n",
            " [ 0 36  4  0 16]\n",
            " [16 64  4 16  0]]\n"
          ]
        }
      ],
      "source": [
        "# Do the same thing with np.square()\n",
        "sqr = np.square(mul)\n",
        "print(sqr)"
      ]
    },
    {
      "cell_type": "code",
      "execution_count": 30,
      "metadata": {
        "id": "RI42VHzUACtG",
        "colab": {
          "base_uri": "https://localhost:8080/"
        },
        "outputId": "74996387-213b-4977-d776-6517bf78e72f"
      },
      "outputs": [
        {
          "output_type": "stream",
          "name": "stdout",
          "text": [
            "14.866666666666667\n"
          ]
        }
      ],
      "source": [
        "# Find the mean of the latest array using np.mean()\n",
        "mean = np.mean(sqr)\n",
        "print(mean)"
      ]
    },
    {
      "cell_type": "code",
      "execution_count": 31,
      "metadata": {
        "id": "BG-fHiP-ACtG",
        "colab": {
          "base_uri": "https://localhost:8080/"
        },
        "outputId": "0300a86d-1f68-43b5-efe5-865ca523ce36"
      },
      "outputs": [
        {
          "output_type": "stream",
          "name": "stdout",
          "text": [
            "64\n"
          ]
        }
      ],
      "source": [
        "# Find the maximum of the latest array using np.max()\n",
        "max = np.max(sqr)\n",
        "print(max)"
      ]
    },
    {
      "cell_type": "code",
      "execution_count": 32,
      "metadata": {
        "id": "p6e4gkFeACtG",
        "colab": {
          "base_uri": "https://localhost:8080/"
        },
        "outputId": "114cfc87-5205-4d76-9eae-9bf1345f2e1b"
      },
      "outputs": [
        {
          "output_type": "stream",
          "name": "stdout",
          "text": [
            "0\n"
          ]
        }
      ],
      "source": [
        "# Find the minimum of the latest array using np.min()\n",
        "min = np.min(sqr)\n",
        "print(min)"
      ]
    },
    {
      "cell_type": "code",
      "execution_count": 33,
      "metadata": {
        "id": "4fenCCh3ACtI",
        "colab": {
          "base_uri": "https://localhost:8080/"
        },
        "outputId": "bb278dc3-95ac-492d-8102-22030eeaaacd"
      },
      "outputs": [
        {
          "output_type": "stream",
          "name": "stdout",
          "text": [
            "17.917837171067518\n"
          ]
        }
      ],
      "source": [
        "# Find the standard deviation of the latest array\n",
        "sd = np.std(sqr)\n",
        "print(sd)"
      ]
    },
    {
      "cell_type": "code",
      "execution_count": 34,
      "metadata": {
        "id": "bbWu9_6sACtI",
        "colab": {
          "base_uri": "https://localhost:8080/"
        },
        "outputId": "3fcdd937-6935-4e41-eda2-258b3c976f0c"
      },
      "outputs": [
        {
          "output_type": "stream",
          "name": "stdout",
          "text": [
            "321.0488888888889\n"
          ]
        }
      ],
      "source": [
        "# Find the variance of the latest array\n",
        "var = np.var(sqr)\n",
        "print(var)"
      ]
    },
    {
      "cell_type": "code",
      "execution_count": 35,
      "metadata": {
        "id": "bW_BoHz-ACtJ",
        "colab": {
          "base_uri": "https://localhost:8080/"
        },
        "outputId": "f9e4fed7-480d-457e-985c-5dc31be01d66"
      },
      "outputs": [
        {
          "output_type": "stream",
          "name": "stdout",
          "text": [
            "[[25 36  1  1  4]\n",
            " [ 0 36  4  0 16]\n",
            " [16 64  4 16  0]]\n"
          ]
        }
      ],
      "source": [
        "# Reshape the latest array to (3, 5, 1)\n",
        "sqr.reshape(3, 5, 1)\n",
        "print(sqr)"
      ]
    },
    {
      "cell_type": "code",
      "execution_count": 36,
      "metadata": {
        "id": "vsaDmfWDACtK",
        "colab": {
          "base_uri": "https://localhost:8080/"
        },
        "outputId": "74b7eb29-75a3-48e8-c527-b75ee1fd7fe3"
      },
      "outputs": [
        {
          "output_type": "stream",
          "name": "stdout",
          "text": [
            "[[25  0 16]\n",
            " [36 36 64]\n",
            " [ 1  4  4]\n",
            " [ 1  0 16]\n",
            " [ 4 16  0]]\n"
          ]
        }
      ],
      "source": [
        "# Transpose the latest array\n",
        "trans = np.transpose(sqr)\n",
        "print(trans)"
      ]
    },
    {
      "cell_type": "markdown",
      "metadata": {
        "id": "IhWJ4WS1ACtK"
      },
      "source": [
        "What does the transpose do?"
      ]
    },
    {
      "cell_type": "code",
      "execution_count": null,
      "metadata": {
        "id": "hKVUkk4dACtL"
      },
      "outputs": [],
      "source": [
        "# Create two arrays of random integers between 0 to 10\n",
        "# one of size (3, 3) the other of size (3, 2)\n",
        "arr10 = np.random.randint(10, size = (3, 3))\n",
        "arr11 = np.random.randint(10, size = (3, 2))\n",
        "print(arr10)\n",
        "print(arr11)"
      ]
    },
    {
      "cell_type": "code",
      "execution_count": null,
      "metadata": {
        "id": "YBgckmJnACtL"
      },
      "outputs": [],
      "source": [
        "# Perform a dot product on the two newest arrays you created\n",
        "x = np.dot(arr10, arr11)\n",
        "print(x)"
      ]
    },
    {
      "cell_type": "code",
      "execution_count": null,
      "metadata": {
        "id": "6Q_LzNzdACtL"
      },
      "outputs": [],
      "source": [
        "# Create two arrays of random integers between 0 to 10\n",
        "# both of size (4, 3)\n",
        "arr12 = np.random.randint(10, size = (4, 3))\n",
        "arr13 = np.random.randint(10, size = (4, 3))\n",
        "print(arr12)\n",
        "print(arr13)"
      ]
    },
    {
      "cell_type": "code",
      "execution_count": null,
      "metadata": {
        "id": "E6SI3FJfACtL"
      },
      "outputs": [],
      "source": [
        "# Perform a dot product on the two newest arrays you created\n",
        "# x = np.dot(arr12, arr13)\n"
      ]
    },
    {
      "cell_type": "markdown",
      "metadata": {
        "id": "JotqSwEaACtL"
      },
      "source": [
        "It doesn't work. How would you fix it?"
      ]
    },
    {
      "cell_type": "code",
      "execution_count": null,
      "metadata": {
        "id": "9TBCUke8ACtL"
      },
      "outputs": [],
      "source": [
        "# Take the latest two arrays, perform a transpose on one of them and then perform\n",
        "# a dot product on them both\n",
        "arr13 = np.transpose(arr13)\n",
        "x = np.dot(arr12, arr13)\n",
        "print(x)\n"
      ]
    },
    {
      "cell_type": "code",
      "execution_count": null,
      "metadata": {
        "id": "m_xKyt56ACtM"
      },
      "outputs": [],
      "source": [
        "# Create two arrays of random integers between 0 & 10 of the same shape\n",
        "# and save them to variables\n",
        "arr14 = np.random.randint(10, size = (3, 5))\n",
        "arr15 = np.random.randint(10, size = (3, 5))\n",
        "print(arr14)\n",
        "print(arr15)"
      ]
    },
    {
      "cell_type": "code",
      "execution_count": null,
      "metadata": {
        "id": "6X26tgYwACtM"
      },
      "outputs": [],
      "source": [
        "# Compare the two arrays with '>'\n",
        "flag = arr14 > arr15\n",
        "print(flag)"
      ]
    },
    {
      "cell_type": "markdown",
      "metadata": {
        "id": "9rcNmAusACtM"
      },
      "source": [
        "What happens when you compare the arrays with `>`?"
      ]
    },
    {
      "cell_type": "code",
      "execution_count": null,
      "metadata": {
        "id": "sCqARkcMACtM"
      },
      "outputs": [],
      "source": [
        "# Compare the two arrays with '>='\n",
        "print(arr14 >= arr15)\n"
      ]
    },
    {
      "cell_type": "code",
      "execution_count": null,
      "metadata": {
        "id": "GVjs5U_5ACtM"
      },
      "outputs": [],
      "source": [
        "# Find which elements of the first array are greater than 7\n",
        "for x in np.nditer(arr14):\n",
        "  if(x > 7):\n",
        "    print(x)"
      ]
    },
    {
      "cell_type": "code",
      "execution_count": null,
      "metadata": {
        "id": "CFVYeteGACtM"
      },
      "outputs": [],
      "source": [
        "# Which parts of each array are equal? (try using '==')\n",
        "print(arr14 == arr15)"
      ]
    },
    {
      "cell_type": "code",
      "execution_count": null,
      "metadata": {
        "id": "20IrUaKFACtM"
      },
      "outputs": [],
      "source": [
        "# Sort one of the arrays you just created in ascending order\n",
        "arr15.sort()\n",
        "print(arr15)"
      ]
    },
    {
      "cell_type": "code",
      "execution_count": null,
      "metadata": {
        "id": "XFpFJXMtACtN"
      },
      "outputs": [],
      "source": [
        "# Sort the indexes of one of the arrays you just created\n",
        "arr16 = np.argsort(arr15)\n",
        "print(arr16)"
      ]
    },
    {
      "cell_type": "code",
      "execution_count": null,
      "metadata": {
        "id": "RwEMZqkKACtN"
      },
      "outputs": [],
      "source": [
        "# Find the index with the maximum value in one of the arrays you've created\n",
        "x = np.argmax(arr15)\n",
        "print(x)"
      ]
    },
    {
      "cell_type": "code",
      "execution_count": null,
      "metadata": {
        "id": "9mX9S_SYACtN"
      },
      "outputs": [],
      "source": [
        "# Find the index with the minimum value in one of the arrays you've created\n",
        "y = np.argmin(arr15)\n",
        "print(y)"
      ]
    },
    {
      "cell_type": "code",
      "execution_count": null,
      "metadata": {
        "id": "UjBoiMfpACtN"
      },
      "outputs": [],
      "source": [
        "# Find the indexes with the maximum values down the 1st axis (axis=1)\n",
        "# of one of the arrays you created\n",
        "z = np.argmax(arr15, axis = 1)\n",
        "print(z)"
      ]
    },
    {
      "cell_type": "code",
      "execution_count": null,
      "metadata": {
        "id": "efRmG1aSACtN"
      },
      "outputs": [],
      "source": [
        "# Find the indexes with the minimum values across the 0th axis (axis=0)\n",
        "# of one of the arrays you created\n",
        "w = np.argmin(arr15, axis = 0)\n",
        "print(w)"
      ]
    },
    {
      "cell_type": "code",
      "execution_count": null,
      "metadata": {
        "id": "Y4nTKUMCACtN"
      },
      "outputs": [],
      "source": [
        "# Create an array of normally distributed random numbers\n",
        "arr17 = np.random.normal(size = 10)\n",
        "print(arr17)\n"
      ]
    },
    {
      "cell_type": "code",
      "execution_count": null,
      "metadata": {
        "id": "KXi5FyCKACtN"
      },
      "outputs": [],
      "source": [
        "# Create an array with 10 evenly spaced numbers between 1 and 100\n",
        "arr18 = np.linspace(1, 100, num=10, dtype='i')\n",
        "print(arr18)"
      ]
    },
    {
      "cell_type": "markdown",
      "metadata": {
        "id": "_D1fowA_ACtO"
      },
      "source": [
        "## Extensions\n",
        "\n",
        "For more exercises, check out the [NumPy quickstart tutorial](https://numpy.org/doc/stable/user/quickstart.html). A good practice would be to read through it and for the parts you find interesting, add them into the end of this notebook.\n",
        "\n",
        "Pay particular attention to the section on broadcasting. And most importantly, get hands-on with the code as much as possible. If in dobut, run the code, see what it does.\n",
        "\n",
        "The next place you could go is the [Stack Overflow page for the top questions and answers for NumPy](https://stackoverflow.com/questions/tagged/numpy?sort=MostVotes&edited=true). Often, you'll find some of the most common and useful NumPy functions here. Don't forget to play around with the filters! You'll likely find something helpful here.\n",
        "\n",
        "Finally, as always, remember, the best way to learn something new is to try it. And try it relentlessly. If you get interested in some kind of NumPy function, asking yourself, \"I wonder if NumPy could do that?\", go and find out."
      ]
    }
  ],
  "metadata": {
    "kernelspec": {
      "display_name": "Python 3",
      "language": "python",
      "name": "python3"
    },
    "language_info": {
      "codemirror_mode": {
        "name": "ipython",
        "version": 3
      },
      "file_extension": ".py",
      "mimetype": "text/x-python",
      "name": "python",
      "nbconvert_exporter": "python",
      "pygments_lexer": "ipython3",
      "version": "3.8.3"
    },
    "colab": {
      "provenance": []
    }
  },
  "nbformat": 4,
  "nbformat_minor": 0
}